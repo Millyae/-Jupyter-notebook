{
 "cells": [
  {
   "cell_type": "code",
   "id": "initial_id",
   "metadata": {
    "collapsed": true,
    "ExecuteTime": {
     "end_time": "2025-09-19T11:42:15.668016Z",
     "start_time": "2025-09-19T11:42:15.545472Z"
    }
   },
   "source": [
    "import pandas as pd\n",
    "import numpy as np\n",
    "import matplotlib.pyplot as plt\n",
    "import seaborn as sns\n",
    "import warnings\n",
    "warnings.filterwarnings('ignore')\n",
    "\n",
    "plt.style.use('default')\n",
    "sns.set_palette(\"husl\")\n",
    "plt.rcParams['figure.figsize'] = (12, 6)\n",
    "plt.rcParams['font.size'] = 12\n",
    "plt.rcParams['font.family'] = \"DejaVu Sans\"\n",
    "\n",
    "print(\"Библиотеки успешно импортированы\")"
   ],
   "outputs": [
    {
     "name": "stdout",
     "output_type": "stream",
     "text": [
      "Библиотеки успешно импортированы\n"
     ]
    }
   ],
   "execution_count": 32
  },
  {
   "metadata": {
    "ExecuteTime": {
     "end_time": "2025-09-18T15:22:54.569111Z",
     "start_time": "2025-09-18T15:22:36.211334Z"
    }
   },
   "cell_type": "code",
   "source": [
    "try:\n",
    "    file_path = \"C:/Users/emmis/PycharmProjects/Project/data/ha_data.csv\"\n",
    "    df = pd.read_csv(file_path, sep=\";\")\n",
    "    print (\"Данные успешно загружены\")\n",
    "    print (f\"Размер данных: {df.shape}\")\n",
    "    print(f\"Колонки: {list(df.columns)}\")\n",
    "except Exception as e:\n",
    "    print(f\"Ошибка загрузки: {e}\")"
   ],
   "id": "ca0b1bb3b7e35493",
   "outputs": [
    {
     "name": "stdout",
     "output_type": "stream",
     "text": [
      "Данные успешно загружены\n",
      "Размер данных: (8471226, 7)\n",
      "Колонки: ['order_id', 'page_id', 'product', 'site_version', 'time', 'title', 'user']\n"
     ]
    }
   ],
   "execution_count": 9
  },
  {
   "metadata": {
    "ExecuteTime": {
     "end_time": "2025-09-18T15:23:51.105645Z",
     "start_time": "2025-09-18T15:23:23.046008Z"
    }
   },
   "cell_type": "code",
   "source": [
    "data = df.copy()\n",
    "data.columns = ['order_id', 'page_id', 'product', 'site_version', 'time', 'title','user']\n",
    "\n",
    "data['time'] = pd.to_datetime(data['time'])\n",
    "data['order_id'] = data['order_id'].fillna('no_order')\n",
    "data['page_id'] = data['page_id'].fillna('no_page')\n",
    "data['event_type'] = data['title'].str.split('_').str[-1]\n",
    "\n",
    "print(\"Информация о данных: \")\n",
    "print(data.info())\n",
    "print(\"\\n Первые 3 строки: \")\n",
    "data.head(3)"
   ],
   "id": "2321b91dffbe67f9",
   "outputs": [
    {
     "name": "stdout",
     "output_type": "stream",
     "text": [
      "Информация о данных: \n",
      "<class 'pandas.core.frame.DataFrame'>\n",
      "RangeIndex: 8471226 entries, 0 to 8471225\n",
      "Data columns (total 8 columns):\n",
      " #   Column        Dtype         \n",
      "---  ------        -----         \n",
      " 0   order_id      object        \n",
      " 1   page_id       object        \n",
      " 2   product       object        \n",
      " 3   site_version  object        \n",
      " 4   time          datetime64[ns]\n",
      " 5   title         object        \n",
      " 6   user          object        \n",
      " 7   event_type    object        \n",
      "dtypes: datetime64[ns](1), object(7)\n",
      "memory usage: 517.0+ MB\n",
      "None\n",
      "\n",
      " Первые 3 строки: \n"
     ]
    },
    {
     "data": {
      "text/plain": [
       "   order_id    page_id   product site_version                time  \\\n",
       "0  no_order        3.0   company       mobile 2017-02-09 20:24:04   \n",
       "1  no_order  3699687.0   company       mobile 2017-02-07 10:03:07   \n",
       "2  no_order       14.0  sneakers       mobile 2017-01-29 13:02:23   \n",
       "\n",
       "         title    user event_type  \n",
       "0  banner_show  user_0       show  \n",
       "1  banner_show  user_0       show  \n",
       "2  banner_show  user_1       show  "
      ],
      "text/html": [
       "<div>\n",
       "<style scoped>\n",
       "    .dataframe tbody tr th:only-of-type {\n",
       "        vertical-align: middle;\n",
       "    }\n",
       "\n",
       "    .dataframe tbody tr th {\n",
       "        vertical-align: top;\n",
       "    }\n",
       "\n",
       "    .dataframe thead th {\n",
       "        text-align: right;\n",
       "    }\n",
       "</style>\n",
       "<table border=\"1\" class=\"dataframe\">\n",
       "  <thead>\n",
       "    <tr style=\"text-align: right;\">\n",
       "      <th></th>\n",
       "      <th>order_id</th>\n",
       "      <th>page_id</th>\n",
       "      <th>product</th>\n",
       "      <th>site_version</th>\n",
       "      <th>time</th>\n",
       "      <th>title</th>\n",
       "      <th>user</th>\n",
       "      <th>event_type</th>\n",
       "    </tr>\n",
       "  </thead>\n",
       "  <tbody>\n",
       "    <tr>\n",
       "      <th>0</th>\n",
       "      <td>no_order</td>\n",
       "      <td>3.0</td>\n",
       "      <td>company</td>\n",
       "      <td>mobile</td>\n",
       "      <td>2017-02-09 20:24:04</td>\n",
       "      <td>banner_show</td>\n",
       "      <td>user_0</td>\n",
       "      <td>show</td>\n",
       "    </tr>\n",
       "    <tr>\n",
       "      <th>1</th>\n",
       "      <td>no_order</td>\n",
       "      <td>3699687.0</td>\n",
       "      <td>company</td>\n",
       "      <td>mobile</td>\n",
       "      <td>2017-02-07 10:03:07</td>\n",
       "      <td>banner_show</td>\n",
       "      <td>user_0</td>\n",
       "      <td>show</td>\n",
       "    </tr>\n",
       "    <tr>\n",
       "      <th>2</th>\n",
       "      <td>no_order</td>\n",
       "      <td>14.0</td>\n",
       "      <td>sneakers</td>\n",
       "      <td>mobile</td>\n",
       "      <td>2017-01-29 13:02:23</td>\n",
       "      <td>banner_show</td>\n",
       "      <td>user_1</td>\n",
       "      <td>show</td>\n",
       "    </tr>\n",
       "  </tbody>\n",
       "</table>\n",
       "</div>"
      ]
     },
     "execution_count": 10,
     "metadata": {},
     "output_type": "execute_result"
    }
   ],
   "execution_count": 10
  },
  {
   "metadata": {
    "ExecuteTime": {
     "end_time": "2025-09-19T11:37:38.507980Z",
     "start_time": "2025-09-19T11:37:23.936781Z"
    }
   },
   "cell_type": "code",
   "source": [
    "print(\"Основная Статистика:\")\n",
    "print(f\"Всего событий: {len(data):,}\")\n",
    "print(f\"Уникальных пользователей: {data['user'].nunique():,}\")\n",
    "print(f\"Уникальных продуктов: {data['product'].nunique()}\")\n",
    "print(f\"Период данных: от {data['time'].min()} до {data['time'].max()}\")\n",
    "print(f\"Дней данных: {(data['time'].max() - data['time'].min()).days}\")\n",
    "\n",
    "print(\"\\nРаспределение событий:\")\n",
    "event_counts = data['event_type'].value_counts()\n",
    "print(event_counts)\n",
    "\n",
    "print(\"\\nРаспределение по платформам:\")\n",
    "print(data['site_version'].value_counts())"
   ],
   "id": "8d48400b618b913f",
   "outputs": [
    {
     "name": "stdout",
     "output_type": "stream",
     "text": [
      "Основная Статистика:\n",
      "Всего событий: 8,471,226\n",
      "Уникальных пользователей: 4,254,621\n",
      "Уникальных продуктов: 5\n",
      "Период данных: от 2017-01-01 00:00:03 до 2017-05-31 23:59:58\n",
      "Дней данных: 150\n",
      "\n",
      "Распределение событий:\n",
      "event_type\n",
      "show     7393319\n",
      "click     829185\n",
      "order     248722\n",
      "Name: count, dtype: int64\n",
      "\n",
      "Распределение по платформам:\n",
      "site_version\n",
      "mobile     6088340\n",
      "desktop    2382886\n",
      "Name: count, dtype: int64\n"
     ]
    }
   ],
   "execution_count": 25
  },
  {
   "metadata": {
    "ExecuteTime": {
     "end_time": "2025-09-18T15:27:38.625517Z",
     "start_time": "2025-09-18T15:27:04.318587Z"
    }
   },
   "cell_type": "code",
   "source": [
    "fig, axes = plt.subplots(1, 2, figsize=(15, 5))\n",
    "\n",
    "sns.countplot(data=data, x='event_type', order=['show', 'click', 'purchase'], ax=axes[0])\n",
    "axes[0].set_title('Распределение типов событий')\n",
    "axes[0].set_xlabel('Тип события')\n",
    "axes[0].set_ylabel('Количество')\n",
    "\n",
    "sns.countplot(data=data, x='site_version', ax=axes[1])\n",
    "axes[1].set_title('Распределение по платформам')\n",
    "axes[1].set_xlabel('Версия сайта')\n",
    "axes[1].set_ylabel('Количество')\n",
    "\n",
    "plt.tight_layout()\n",
    "plt.show()"
   ],
   "id": "719203c6e3cb19af",
   "outputs": [
    {
     "data": {
      "text/plain": [
       "<Figure size 1500x500 with 2 Axes>"
      ],
      "image/png": "[encoded data removed]"
     },
     "metadata": {},
     "output_type": "display_data"
    }
   ],
   "execution_count": 12
  },
  {
   "metadata": {
    "ExecuteTime": {
     "end_time": "2025-09-19T11:38:31.971643Z",
     "start_time": "2025-09-19T11:38:04.813733Z"
    }
   },
   "cell_type": "code",
   "source": [
    "total_shows = data[data['event_type'] == 'show'].shape[0]\n",
    "total_clicks = data[data['event_type'] == 'click'].shape[0]\n",
    "total_purchases = data[data['event_type'] == 'order'].shape[0]\n",
    "\n",
    "overall_ctr = round(total_clicks / total_shows * 100, 2) if total_shows > 0 else 0\n",
    "overall_conversion = round(total_purchases / total_clicks * 100, 2) if total_clicks > 0 else 0\n",
    "\n",
    "print(\"Метрики Эффективнсти\")\n",
    "print(f\"Показы: {total_shows:,}\")\n",
    "print(f\"Клики: {total_clicks:,}\")\n",
    "print(f\"Покупки: {total_purchases:,}\")\n",
    "print(f\"CTR: {overall_ctr}%\")\n",
    "print(f\"Конверсия: {overall_conversion}%\")"
   ],
   "id": "af4ed85661f4cb85",
   "outputs": [
    {
     "name": "stdout",
     "output_type": "stream",
     "text": [
      "Метрики Эффективнсти\n",
      "Показы: 7,393,319\n",
      "Клики: 829,185\n",
      "Покупки: 248,722\n",
      "CTR: 11.22%\n",
      "Конверсия: 30.0%\n"
     ]
    }
   ],
   "execution_count": 26
  },
  {
   "metadata": {
    "ExecuteTime": {
     "end_time": "2025-09-19T11:41:08.433745Z",
     "start_time": "2025-09-19T11:41:00.477024Z"
    }
   },
   "cell_type": "code",
   "source": [
    "product_stats = data.groupby('product').agg({\n",
    "    'event_type': [\n",
    "        ('shows', lambda x: (x == 'show').sum()),\n",
    "        ('clicks', lambda x: (x == 'click').sum()),\n",
    "        ('purchases', lambda x: (x == 'order').sum())\n",
    "    ]\n",
    "}).round(2)\n",
    "\n",
    "product_stats.columns = product_stats.columns.droplevel(0)\n",
    "product_stats['CTR'] = (product_stats['clicks'] / product_stats['shows'] * 100).round(2)\n",
    "product_stats['Conversion'] = (product_stats['purchases'] / product_stats['clicks'] * 100).round(2)\n",
    "\n",
    "print(\"Эффективность по продуктам:\")\n",
    "product_stats"
   ],
   "id": "8e9d3b72990c9ab4",
   "outputs": [
    {
     "name": "stdout",
     "output_type": "stream",
     "text": [
      "Эффективность по продуктам:\n"
     ]
    },
    {
     "data": {
      "text/plain": [
       "                    shows  clicks  purchases    CTR  Conversion\n",
       "product                                                        \n",
       "accessories       1440954  136254      44551   9.46       32.70\n",
       "clothes           1453128  220595     112715  15.18       51.10\n",
       "company           1580238  144821          0   9.16        0.00\n",
       "sneakers          1453029  182597      67719  12.57       37.09\n",
       "sports_nutrition  1465970  144918      23737   9.89       16.38"
      ],
      "text/html": [
       "<div>\n",
       "<style scoped>\n",
       "    .dataframe tbody tr th:only-of-type {\n",
       "        vertical-align: middle;\n",
       "    }\n",
       "\n",
       "    .dataframe tbody tr th {\n",
       "        vertical-align: top;\n",
       "    }\n",
       "\n",
       "    .dataframe thead th {\n",
       "        text-align: right;\n",
       "    }\n",
       "</style>\n",
       "<table border=\"1\" class=\"dataframe\">\n",
       "  <thead>\n",
       "    <tr style=\"text-align: right;\">\n",
       "      <th></th>\n",
       "      <th>shows</th>\n",
       "      <th>clicks</th>\n",
       "      <th>purchases</th>\n",
       "      <th>CTR</th>\n",
       "      <th>Conversion</th>\n",
       "    </tr>\n",
       "    <tr>\n",
       "      <th>product</th>\n",
       "      <th></th>\n",
       "      <th></th>\n",
       "      <th></th>\n",
       "      <th></th>\n",
       "      <th></th>\n",
       "    </tr>\n",
       "  </thead>\n",
       "  <tbody>\n",
       "    <tr>\n",
       "      <th>accessories</th>\n",
       "      <td>1440954</td>\n",
       "      <td>136254</td>\n",
       "      <td>44551</td>\n",
       "      <td>9.46</td>\n",
       "      <td>32.70</td>\n",
       "    </tr>\n",
       "    <tr>\n",
       "      <th>clothes</th>\n",
       "      <td>1453128</td>\n",
       "      <td>220595</td>\n",
       "      <td>112715</td>\n",
       "      <td>15.18</td>\n",
       "      <td>51.10</td>\n",
       "    </tr>\n",
       "    <tr>\n",
       "      <th>company</th>\n",
       "      <td>1580238</td>\n",
       "      <td>144821</td>\n",
       "      <td>0</td>\n",
       "      <td>9.16</td>\n",
       "      <td>0.00</td>\n",
       "    </tr>\n",
       "    <tr>\n",
       "      <th>sneakers</th>\n",
       "      <td>1453029</td>\n",
       "      <td>182597</td>\n",
       "      <td>67719</td>\n",
       "      <td>12.57</td>\n",
       "      <td>37.09</td>\n",
       "    </tr>\n",
       "    <tr>\n",
       "      <th>sports_nutrition</th>\n",
       "      <td>1465970</td>\n",
       "      <td>144918</td>\n",
       "      <td>23737</td>\n",
       "      <td>9.89</td>\n",
       "      <td>16.38</td>\n",
       "    </tr>\n",
       "  </tbody>\n",
       "</table>\n",
       "</div>"
      ]
     },
     "execution_count": 30,
     "metadata": {},
     "output_type": "execute_result"
    }
   ],
   "execution_count": 30
  },
  {
   "metadata": {
    "ExecuteTime": {
     "end_time": "2025-09-19T11:40:48.563567Z",
     "start_time": "2025-09-19T11:40:48.487603Z"
    }
   },
   "cell_type": "code",
   "source": [
    "average_order_value = 5000\n",
    "\n",
    "current_revenue = total_purchases * average_order_value\n",
    "cpc_rate = 10\n",
    "potential_revenue = int(total_clicks * cpc_rate)\n",
    "\n",
    "print(\"Экономический Анализ:\")\n",
    "print(f\"Текущий доход от баннеров: {current_revenue:,.0f} руб.\")\n",
    "print(f\"Потенциальный доход от продажи (CPC {cpc_rate} руб.): {potential_revenue:,.0f} руб.\")\n",
    "print(f\"Разница: {abs(current_revenue - potential_revenue):,.0f} руб.\")\n",
    "\n",
    "if potential_revenue > current_revenue:\n",
    "    print(\"\\nВывод: Продажа места под баннер выгоднее\")\n",
    "else:\n",
    "    print(\"\\nВывод: Текущее использование баннеров выгоднее\")"
   ],
   "id": "68d9c39c256813a9",
   "outputs": [
    {
     "name": "stdout",
     "output_type": "stream",
     "text": [
      "Экономический Анализ:\n",
      "Текущий доход от баннеров: 1,243,610,000 руб.\n",
      "Потенциальный доход от продажи (CPC 10 руб.): 8,291,850 руб.\n",
      "Разница: 1,235,318,150 руб.\n",
      "\n",
      "Вывод: Текущее использование баннеров выгоднее\n"
     ]
    }
   ],
   "execution_count": 29
  },
  {
   "metadata": {
    "ExecuteTime": {
     "end_time": "2025-09-19T11:41:16.914180Z",
     "start_time": "2025-09-19T11:41:16.879984Z"
    }
   },
   "cell_type": "code",
   "source": [
    "print(\"Финальные выводы и рекомендации\")\n",
    "print(f\"\\n1. Эффективность:\")\n",
    "print(f\"   CTR: {overall_ctr}%\")\n",
    "print(f\"   Конверсия: {overall_conversion}%\")\n",
    "print(f\"   Показов/кликов/покупок: {total_shows:,}/{total_clicks:,}/{total_purchases:,}\")\n",
    "\n",
    "print(f\"\\n2. Экономика:\")\n",
    "print(f\"   Текущая ценность: {current_revenue:,.0f} руб.\")\n",
    "print(f\"   Потенциальная ценность: {potential_revenue:,.0f} руб.\")\n",
    "\n",
    "if potential_revenue > current_revenue:\n",
    "    print(f\"   Рекомендация: Продать место под баннер\")\n",
    "    print(f\"   Обоснование: CPC модель принесет на {potential_revenue - current_revenue:,.0f} руб. больше\")\n",
    "else:\n",
    "    print(f\"   Рекомендация: Оставить текущую модель\")\n",
    "    print(f\"   Обоснование: Текущие баннеры приносят на {current_revenue - potential_revenue:,.0f} руб. больше\")\n",
    "\n",
    "print(f\"\\n3. Рекомендации:\")\n",
    "print(\"   Оптимизировать баннеры для увеличения CTR\")\n",
    "print(\"   Проанализировать наиболее эффективные продукты\")\n",
    "print(\"   Рассмотреть гибридную модель\")\n",
    "print(\"   Провести A/B тестирование разных баннеров\")"
   ],
   "id": "ce8ae1cef5585370",
   "outputs": [
    {
     "name": "stdout",
     "output_type": "stream",
     "text": [
      "Финальные выводы и рекомендации\n",
      "\n",
      "1. Эффективность:\n",
      "   CTR: 11.22%\n",
      "   Конверсия: 30.0%\n",
      "   Показов/кликов/покупок: 7,393,319/829,185/248,722\n",
      "\n",
      "2. Экономика:\n",
      "   Текущая ценность: 1,243,610,000 руб.\n",
      "   Потенциальная ценность: 8,291,850 руб.\n",
      "   Рекомендация: Оставить текущую модель\n",
      "   Обоснование: Текущие баннеры приносят на 1,235,318,150 руб. больше\n",
      "\n",
      "3. Рекомендации:\n",
      "   Оптимизировать баннеры для увеличения CTR\n",
      "   Проанализировать наиболее эффективные продукты\n",
      "   Рассмотреть гибридную модель\n",
      "   Провести A/B тестирование разных баннеров\n"
     ]
    }
   ],
   "execution_count": 31
  }
 ],
 "metadata": {
  "kernelspec": {
   "display_name": "Python 3",
   "language": "python",
   "name": "python3"
  },
  "language_info": {
   "codemirror_mode": {
    "name": "ipython",
    "version": 2
   },
   "file_extension": ".py",
   "mimetype": "text/x-python",
   "name": "python",
   "nbconvert_exporter": "python",
   "pygments_lexer": "ipython2",
   "version": "2.7.6"
  }
 },
 "nbformat": 4,
 "nbformat_minor": 5
}
